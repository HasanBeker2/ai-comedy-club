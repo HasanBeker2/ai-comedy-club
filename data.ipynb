{
 "cells": [
  {
   "cell_type": "code",
   "execution_count": 1,
   "metadata": {},
   "outputs": [],
   "source": [
    "import pandas as pd"
   ]
  },
  {
   "cell_type": "code",
   "execution_count": 3,
   "metadata": {},
   "outputs": [],
   "source": [
    "df = pd.read_csv('./data/preprocessed.csv')"
   ]
  },
  {
   "cell_type": "code",
   "execution_count": 5,
   "metadata": {},
   "outputs": [
    {
     "name": "stdout",
     "output_type": "stream",
     "text": [
      "                                            joke body  \\\n",
      "0                                A Day in Court   NaN   \n",
      "1           Photograph of Software project Team   NaN   \n",
      "2                      what we guys really like   NaN   \n",
      "3  The Nietzsche Family Circus random generator   NaN   \n",
      "4                     funny pic: His & Hers SUV   NaN   \n",
      "\n",
      "                                      punchline  score          date  \n",
      "0                                A Day in Court    5.0  1.201282e+09  \n",
      "1           Photograph of Software project Team    0.0  1.202643e+09  \n",
      "2                      what we guys really like    3.0  1.202651e+09  \n",
      "3  The Nietzsche Family Circus random generator    3.0  1.204249e+09  \n",
      "4                     funny pic: His & Hers SUV    0.0  1.206129e+09  \n",
      "573408\n"
     ]
    }
   ],
   "source": [
    "# print len(df)\n",
    "print (df.head())\n",
    "print(len(df))"
   ]
  },
  {
   "cell_type": "code",
   "execution_count": 6,
   "metadata": {},
   "outputs": [
    {
     "name": "stdout",
     "output_type": "stream",
     "text": [
      "0.0 1541018587.0\n"
     ]
    }
   ],
   "source": [
    "# print range of score column\n",
    "print (df['score'].min(), df['score'].max())"
   ]
  },
  {
   "cell_type": "code",
   "execution_count": 7,
   "metadata": {},
   "outputs": [
    {
     "name": "stderr",
     "output_type": "stream",
     "text": [
      "/tmp/ipykernel_8440/298061713.py:5: UserWarning: \n",
      "\n",
      "`distplot` is a deprecated function and will be removed in seaborn v0.14.0.\n",
      "\n",
      "Please adapt your code to use either `displot` (a figure-level function with\n",
      "similar flexibility) or `histplot` (an axes-level function for histograms).\n",
      "\n",
      "For a guide to updating your code to use the new functions, please see\n",
      "https://gist.github.com/mwaskom/de44147ed2974457ad6372750bbe5751\n",
      "\n",
      "  sns.distplot(df['score'], kde=False)\n"
     ]
    },
    {
     "data": {
      "text/plain": [
       "<Axes: xlabel='score'>"
      ]
     },
     "execution_count": 7,
     "metadata": {},
     "output_type": "execute_result"
    },
    {
     "data": {
      "image/png": "[encoded data removed]",
      "text/plain": [
       "<Figure size 640x480 with 1 Axes>"
      ]
     },
     "metadata": {},
     "output_type": "display_data"
    }
   ],
   "source": [
    "import matplotlib.pyplot as plt\n",
    "import seaborn as sns\n",
    "\n",
    "# plot histogram of score\n",
    "sns.distplot(df['score'], kde=False)"
   ]
  },
  {
   "cell_type": "code",
   "execution_count": 11,
   "metadata": {},
   "outputs": [],
   "source": [
    "# drop rows with no body or joke\n",
    "df.dropna(subset=['body', 'joke', 'punchline'], inplace=True)"
   ]
  },
  {
   "cell_type": "code",
   "execution_count": 12,
   "metadata": {},
   "outputs": [
    {
     "name": "stdout",
     "output_type": "stream",
     "text": [
      "567598\n"
     ]
    }
   ],
   "source": [
    "print(len(df))"
   ]
  },
  {
   "cell_type": "code",
   "execution_count": 13,
   "metadata": {},
   "outputs": [
    {
     "data": {
      "text/html": [
       "<div>\n",
       "<style scoped>\n",
       "    .dataframe tbody tr th:only-of-type {\n",
       "        vertical-align: middle;\n",
       "    }\n",
       "\n",
       "    .dataframe tbody tr th {\n",
       "        vertical-align: top;\n",
       "    }\n",
       "\n",
       "    .dataframe thead th {\n",
       "        text-align: right;\n",
       "    }\n",
       "</style>\n",
       "<table border=\"1\" class=\"dataframe\">\n",
       "  <thead>\n",
       "    <tr style=\"text-align: right;\">\n",
       "      <th></th>\n",
       "      <th>joke</th>\n",
       "      <th>body</th>\n",
       "      <th>punchline</th>\n",
       "      <th>score</th>\n",
       "      <th>date</th>\n",
       "    </tr>\n",
       "  </thead>\n",
       "  <tbody>\n",
       "    <tr>\n",
       "      <th>178</th>\n",
       "      <td>I hope you're all getting your Walter Cronkite...</td>\n",
       "      <td>Here's mine. \\n\\nEd McMahon, David Carradine, ...</td>\n",
       "      <td>I hope you're all getting your Walter Cronkite...</td>\n",
       "      <td>8.0</td>\n",
       "      <td>1.246240e+09</td>\n",
       "    </tr>\n",
       "    <tr>\n",
       "      <th>182</th>\n",
       "      <td>What is the only thing a woman can say that wi...</td>\n",
       "      <td>\"Your dick is bigger than your brother's.\"</td>\n",
       "      <td>What is the only thing a woman can say that wi...</td>\n",
       "      <td>24.0</td>\n",
       "      <td>1.247151e+09</td>\n",
       "    </tr>\n",
       "    <tr>\n",
       "      <th>184</th>\n",
       "      <td>What do scientists use to measure a chicken's ...</td>\n",
       "      <td>An egg timer</td>\n",
       "      <td>What do scientists use to measure a chicken's ...</td>\n",
       "      <td>0.0</td>\n",
       "      <td>1.247210e+09</td>\n",
       "    </tr>\n",
       "    <tr>\n",
       "      <th>189</th>\n",
       "      <td>Two Gay guys are lying on their bed... Two gay...</td>\n",
       "      <td>Two gay guys are lying on their bed.  The firs...</td>\n",
       "      <td>Two Gay guys are lying on their bed...</td>\n",
       "      <td>0.0</td>\n",
       "      <td>1.247510e+09</td>\n",
       "    </tr>\n",
       "    <tr>\n",
       "      <th>193</th>\n",
       "      <td>At 12:01 after midnight... At 12:01 after midn...</td>\n",
       "      <td>At 12:01 after midnight, on a cloudy evening, ...</td>\n",
       "      <td>At 12:01 after midnight...</td>\n",
       "      <td>0.0</td>\n",
       "      <td>1.248463e+09</td>\n",
       "    </tr>\n",
       "  </tbody>\n",
       "</table>\n",
       "</div>"
      ],
      "text/plain": [
       "                                                  joke  \\\n",
       "178  I hope you're all getting your Walter Cronkite...   \n",
       "182  What is the only thing a woman can say that wi...   \n",
       "184  What do scientists use to measure a chicken's ...   \n",
       "189  Two Gay guys are lying on their bed... Two gay...   \n",
       "193  At 12:01 after midnight... At 12:01 after midn...   \n",
       "\n",
       "                                                  body  \\\n",
       "178  Here's mine. \\n\\nEd McMahon, David Carradine, ...   \n",
       "182        \"Your dick is bigger than your brother's.\"    \n",
       "184                                       An egg timer   \n",
       "189  Two gay guys are lying on their bed.  The firs...   \n",
       "193  At 12:01 after midnight, on a cloudy evening, ...   \n",
       "\n",
       "                                             punchline  score          date  \n",
       "178  I hope you're all getting your Walter Cronkite...    8.0  1.246240e+09  \n",
       "182  What is the only thing a woman can say that wi...   24.0  1.247151e+09  \n",
       "184  What do scientists use to measure a chicken's ...    0.0  1.247210e+09  \n",
       "189             Two Gay guys are lying on their bed...    0.0  1.247510e+09  \n",
       "193                         At 12:01 after midnight...    0.0  1.248463e+09  "
      ]
     },
     "execution_count": 13,
     "metadata": {},
     "output_type": "execute_result"
    }
   ],
   "source": [
    "df.head()"
   ]
  },
  {
   "cell_type": "code",
   "execution_count": 14,
   "metadata": {},
   "outputs": [],
   "source": [
    "# drop date\n",
    "df.drop(['date'], axis=1, inplace=True)"
   ]
  },
  {
   "cell_type": "code",
   "execution_count": 15,
   "metadata": {},
   "outputs": [
    {
     "data": {
      "text/html": [
       "<div>\n",
       "<style scoped>\n",
       "    .dataframe tbody tr th:only-of-type {\n",
       "        vertical-align: middle;\n",
       "    }\n",
       "\n",
       "    .dataframe tbody tr th {\n",
       "        vertical-align: top;\n",
       "    }\n",
       "\n",
       "    .dataframe thead th {\n",
       "        text-align: right;\n",
       "    }\n",
       "</style>\n",
       "<table border=\"1\" class=\"dataframe\">\n",
       "  <thead>\n",
       "    <tr style=\"text-align: right;\">\n",
       "      <th></th>\n",
       "      <th>joke</th>\n",
       "      <th>body</th>\n",
       "      <th>punchline</th>\n",
       "      <th>score</th>\n",
       "    </tr>\n",
       "  </thead>\n",
       "  <tbody>\n",
       "    <tr>\n",
       "      <th>178</th>\n",
       "      <td>I hope you're all getting your Walter Cronkite...</td>\n",
       "      <td>Here's mine. \\n\\nEd McMahon, David Carradine, ...</td>\n",
       "      <td>I hope you're all getting your Walter Cronkite...</td>\n",
       "      <td>8.0</td>\n",
       "    </tr>\n",
       "    <tr>\n",
       "      <th>182</th>\n",
       "      <td>What is the only thing a woman can say that wi...</td>\n",
       "      <td>\"Your dick is bigger than your brother's.\"</td>\n",
       "      <td>What is the only thing a woman can say that wi...</td>\n",
       "      <td>24.0</td>\n",
       "    </tr>\n",
       "    <tr>\n",
       "      <th>184</th>\n",
       "      <td>What do scientists use to measure a chicken's ...</td>\n",
       "      <td>An egg timer</td>\n",
       "      <td>What do scientists use to measure a chicken's ...</td>\n",
       "      <td>0.0</td>\n",
       "    </tr>\n",
       "    <tr>\n",
       "      <th>189</th>\n",
       "      <td>Two Gay guys are lying on their bed... Two gay...</td>\n",
       "      <td>Two gay guys are lying on their bed.  The firs...</td>\n",
       "      <td>Two Gay guys are lying on their bed...</td>\n",
       "      <td>0.0</td>\n",
       "    </tr>\n",
       "    <tr>\n",
       "      <th>193</th>\n",
       "      <td>At 12:01 after midnight... At 12:01 after midn...</td>\n",
       "      <td>At 12:01 after midnight, on a cloudy evening, ...</td>\n",
       "      <td>At 12:01 after midnight...</td>\n",
       "      <td>0.0</td>\n",
       "    </tr>\n",
       "  </tbody>\n",
       "</table>\n",
       "</div>"
      ],
      "text/plain": [
       "                                                  joke  \\\n",
       "178  I hope you're all getting your Walter Cronkite...   \n",
       "182  What is the only thing a woman can say that wi...   \n",
       "184  What do scientists use to measure a chicken's ...   \n",
       "189  Two Gay guys are lying on their bed... Two gay...   \n",
       "193  At 12:01 after midnight... At 12:01 after midn...   \n",
       "\n",
       "                                                  body  \\\n",
       "178  Here's mine. \\n\\nEd McMahon, David Carradine, ...   \n",
       "182        \"Your dick is bigger than your brother's.\"    \n",
       "184                                       An egg timer   \n",
       "189  Two gay guys are lying on their bed.  The firs...   \n",
       "193  At 12:01 after midnight, on a cloudy evening, ...   \n",
       "\n",
       "                                             punchline  score  \n",
       "178  I hope you're all getting your Walter Cronkite...    8.0  \n",
       "182  What is the only thing a woman can say that wi...   24.0  \n",
       "184  What do scientists use to measure a chicken's ...    0.0  \n",
       "189             Two Gay guys are lying on their bed...    0.0  \n",
       "193                         At 12:01 after midnight...    0.0  "
      ]
     },
     "execution_count": 15,
     "metadata": {},
     "output_type": "execute_result"
    }
   ],
   "source": [
    "df.head()"
   ]
  },
  {
   "cell_type": "code",
   "execution_count": 24,
   "metadata": {},
   "outputs": [
    {
     "name": "stderr",
     "output_type": "stream",
     "text": [
      "/tmp/ipykernel_8440/1744166734.py:5: UserWarning: \n",
      "\n",
      "`distplot` is a deprecated function and will be removed in seaborn v0.14.0.\n",
      "\n",
      "Please adapt your code to use either `displot` (a figure-level function with\n",
      "similar flexibility) or `histplot` (an axes-level function for histograms).\n",
      "\n",
      "For a guide to updating your code to use the new functions, please see\n",
      "https://gist.github.com/mwaskom/de44147ed2974457ad6372750bbe5751\n",
      "\n",
      "  sns.distplot(df[df['score'] > 0]['score'], kde=False)\n"
     ]
    },
    {
     "data": {
      "text/plain": [
       "<Axes: xlabel='score'>"
      ]
     },
     "execution_count": 24,
     "metadata": {},
     "output_type": "execute_result"
    },
    {
     "data": {
      "image/png": "[encoded data removed]",
      "text/plain": [
       "<Figure size 640x480 with 1 Axes>"
      ]
     },
     "metadata": {},
     "output_type": "display_data"
    }
   ],
   "source": [
    "# plot the histogram of score again\n",
    "# but this time, only for jokes with score > 0\n",
    "#with 1e3 on the x-axis, the histogram is a bit more readable\n",
    "plt.xlim(0, 1541018587)\n",
    "sns.distplot(df[df['score'] > 0]['score'], kde=False)\n"
   ]
  },
  {
   "cell_type": "code",
   "execution_count": 26,
   "metadata": {},
   "outputs": [
    {
     "data": {
      "text/html": [
       "<div>\n",
       "<style scoped>\n",
       "    .dataframe tbody tr th:only-of-type {\n",
       "        vertical-align: middle;\n",
       "    }\n",
       "\n",
       "    .dataframe tbody tr th {\n",
       "        vertical-align: top;\n",
       "    }\n",
       "\n",
       "    .dataframe thead th {\n",
       "        text-align: right;\n",
       "    }\n",
       "</style>\n",
       "<table border=\"1\" class=\"dataframe\">\n",
       "  <thead>\n",
       "    <tr style=\"text-align: right;\">\n",
       "      <th></th>\n",
       "      <th>joke</th>\n",
       "      <th>body</th>\n",
       "      <th>punchline</th>\n",
       "      <th>score</th>\n",
       "    </tr>\n",
       "  </thead>\n",
       "  <tbody>\n",
       "    <tr>\n",
       "      <th>2041</th>\n",
       "      <td>A good bar joke that always makes women laugh ...</td>\n",
       "      <td>Jack woke up with a huge hangover after attend...</td>\n",
       "      <td>A good bar joke that always makes women laugh</td>\n",
       "      <td>1417.0</td>\n",
       "    </tr>\n",
       "    <tr>\n",
       "      <th>2344</th>\n",
       "      <td>A wife decides to take her husband to a strip ...</td>\n",
       "      <td>They arrive at the club and the doorman says, ...</td>\n",
       "      <td>A wife decides to take her husband to a strip ...</td>\n",
       "      <td>1007.0</td>\n",
       "    </tr>\n",
       "    <tr>\n",
       "      <th>3506</th>\n",
       "      <td>A driver was stuck in a traffic jam on the hig...</td>\n",
       "      <td>The driver rolls down the window and asks, “Wh...</td>\n",
       "      <td>A driver was stuck in a traffic jam on the hig...</td>\n",
       "      <td>1097.0</td>\n",
       "    </tr>\n",
       "    <tr>\n",
       "      <th>3942</th>\n",
       "      <td>What bounces and makes kids cry? My donation c...</td>\n",
       "      <td>My donation cheque to \"Children in Need\".</td>\n",
       "      <td>What bounces and makes kids cry?</td>\n",
       "      <td>1367.0</td>\n",
       "    </tr>\n",
       "    <tr>\n",
       "      <th>4149</th>\n",
       "      <td>Guy takes his girlfriend to the prom... So thi...</td>\n",
       "      <td>So this guy is taking his girlfriend to the hi...</td>\n",
       "      <td>Guy takes his girlfriend to the prom...</td>\n",
       "      <td>1707.0</td>\n",
       "    </tr>\n",
       "  </tbody>\n",
       "</table>\n",
       "</div>"
      ],
      "text/plain": [
       "                                                   joke  \\\n",
       "2041  A good bar joke that always makes women laugh ...   \n",
       "2344  A wife decides to take her husband to a strip ...   \n",
       "3506  A driver was stuck in a traffic jam on the hig...   \n",
       "3942  What bounces and makes kids cry? My donation c...   \n",
       "4149  Guy takes his girlfriend to the prom... So thi...   \n",
       "\n",
       "                                                   body  \\\n",
       "2041  Jack woke up with a huge hangover after attend...   \n",
       "2344  They arrive at the club and the doorman says, ...   \n",
       "3506  The driver rolls down the window and asks, “Wh...   \n",
       "3942          My donation cheque to \"Children in Need\".   \n",
       "4149  So this guy is taking his girlfriend to the hi...   \n",
       "\n",
       "                                              punchline   score  \n",
       "2041      A good bar joke that always makes women laugh  1417.0  \n",
       "2344  A wife decides to take her husband to a strip ...  1007.0  \n",
       "3506  A driver was stuck in a traffic jam on the hig...  1097.0  \n",
       "3942                   What bounces and makes kids cry?  1367.0  \n",
       "4149            Guy takes his girlfriend to the prom...  1707.0  "
      ]
     },
     "execution_count": 26,
     "metadata": {},
     "output_type": "execute_result"
    }
   ],
   "source": [
    "# get head of df of jokes of score >1000\n",
    "df[df['score'] > 1000].head()"
   ]
  },
  {
   "cell_type": "code",
   "execution_count": 35,
   "metadata": {},
   "outputs": [
    {
     "name": "stdout",
     "output_type": "stream",
     "text": [
      "joke         If I ever saw an amputee being hanged, I'd jus...\n",
      "body            I'd just yell out letters.\\n\\n- Demetri Martin\n",
      "punchline               If I ever saw an amputee being hanged,\n",
      "score                                                    117.0\n",
      "Name: 2473, dtype: object\n",
      "-----------------------------\n",
      "The Late Great Minnie Pearl... In the early nineteen hundreds many a young country girl moved to the big cities to seek gainful employment. These delicate country flowers would often room in polite boarding houses. Five young lasses who were all living in the same house all had dates on the same evening. Like most girls they were curious about the others romances, however it was considered impolite to ask about such personal subjects as kissing. So on the afternoon of the dates the girls made an agreement, for each kiss they granted their dates, when each girl came to the breakfast table she would say the word \" morning\" for each kiss. Bright and early that morning as each girl entered the dining room she was greeted by the matron saying \" Good day and how are you today?\" When the first girl entered the matron asked, \" Good day miss Ruby, how are you today? \" Miss Ruby grumped, \" Fine.\" and took her seat. As the second girl entered the matron asked, \" Good day miss Amber, how are you today?\" The girl replied\" Good morning.\" , and blushed as she took her seat.Miss Emerald said, \" It's a beautiful morning this morning.\" and sat shyly looking down. Miss Opal said,\" Good morning, lovely morning this morning isn't it? \" When miss Pearl bounced into the room the matron asked, \" Good day miss Pearl, how are you this morning? \" to which miss Pearl replied,\" Good morning this morning, its a beautiful morning this morning, don't you think its a beautiful morning this morning, Oh, I just love mornings. \"\n",
      "I'd just yell out letters.\n",
      "\n",
      "- Demetri Martin\n",
      "If I ever saw an amputee being hanged,\n"
     ]
    }
   ],
   "source": [
    "# get the row 2041\n",
    "df.iloc[2041]\n",
    "# print every thing in it\n",
    "print(df.iloc[2041])\n",
    "print('-----------------------------')\n",
    "print(df.iloc[9000]['joke'])\n",
    "print(df.iloc[2041]['body'])\n",
    "print(df.iloc[2041]['punchline'])"
   ]
  },
  {
   "cell_type": "code",
   "execution_count": 41,
   "metadata": {},
   "outputs": [],
   "source": [
    "# drop any joke that has more than 4096 characters\n",
    "df = df[df['joke'].str.len() <= 4096]"
   ]
  },
  {
   "cell_type": "code",
   "execution_count": 50,
   "metadata": {},
   "outputs": [
    {
     "name": "stdout",
     "output_type": "stream",
     "text": [
      "566798\n",
      "272494\n",
      "272494\n"
     ]
    }
   ],
   "source": [
    "print(len(df))\n",
    "# jokes with score above average\n",
    "# df[df['score'] > df['score'].mean()].head()\n",
    "# print len\n",
    "print(len(df[df['score'] > df['score'].median()]))\n",
    "\n",
    "df_jokes = df[df['score'] > df['score'].median()]\n",
    "# print len of df_jokes\n",
    "print(len(df_jokes))"
   ]
  },
  {
   "cell_type": "code",
   "execution_count": 51,
   "metadata": {},
   "outputs": [],
   "source": [
    "# make a new df with only the 'joke' column \n",
    "\n",
    "df_jokes = df_jokes[['joke']]\n",
    "# add to it a column called 'prompt' having only one value : 'tell me a joke'\n",
    "df_jokes['prompt'] = 'tell me a joke'"
   ]
  },
  {
   "cell_type": "code",
   "execution_count": 52,
   "metadata": {},
   "outputs": [
    {
     "data": {
      "text/html": [
       "<div>\n",
       "<style scoped>\n",
       "    .dataframe tbody tr th:only-of-type {\n",
       "        vertical-align: middle;\n",
       "    }\n",
       "\n",
       "    .dataframe tbody tr th {\n",
       "        vertical-align: top;\n",
       "    }\n",
       "\n",
       "    .dataframe thead th {\n",
       "        text-align: right;\n",
       "    }\n",
       "</style>\n",
       "<table border=\"1\" class=\"dataframe\">\n",
       "  <thead>\n",
       "    <tr style=\"text-align: right;\">\n",
       "      <th></th>\n",
       "      <th>joke</th>\n",
       "      <th>prompt</th>\n",
       "    </tr>\n",
       "  </thead>\n",
       "  <tbody>\n",
       "    <tr>\n",
       "      <th>178</th>\n",
       "      <td>I hope you're all getting your Walter Cronkite...</td>\n",
       "      <td>tell me a joke</td>\n",
       "    </tr>\n",
       "    <tr>\n",
       "      <th>182</th>\n",
       "      <td>What is the only thing a woman can say that wi...</td>\n",
       "      <td>tell me a joke</td>\n",
       "    </tr>\n",
       "    <tr>\n",
       "      <th>197</th>\n",
       "      <td>A man camped in a national park, and noticed M...</td>\n",
       "      <td>tell me a joke</td>\n",
       "    </tr>\n",
       "    <tr>\n",
       "      <th>200</th>\n",
       "      <td>Why is gambling not allowed in Africa? Because...</td>\n",
       "      <td>tell me a joke</td>\n",
       "    </tr>\n",
       "    <tr>\n",
       "      <th>224</th>\n",
       "      <td>Husband Asks Wife \"What would you do if I hit ...</td>\n",
       "      <td>tell me a joke</td>\n",
       "    </tr>\n",
       "  </tbody>\n",
       "</table>\n",
       "</div>"
      ],
      "text/plain": [
       "                                                  joke          prompt\n",
       "178  I hope you're all getting your Walter Cronkite...  tell me a joke\n",
       "182  What is the only thing a woman can say that wi...  tell me a joke\n",
       "197  A man camped in a national park, and noticed M...  tell me a joke\n",
       "200  Why is gambling not allowed in Africa? Because...  tell me a joke\n",
       "224  Husband Asks Wife \"What would you do if I hit ...  tell me a joke"
      ]
     },
     "execution_count": 52,
     "metadata": {},
     "output_type": "execute_result"
    }
   ],
   "source": [
    "df_jokes.head()"
   ]
  },
  {
   "cell_type": "code",
   "execution_count": 53,
   "metadata": {},
   "outputs": [
    {
     "name": "stdout",
     "output_type": "stream",
     "text": [
      "joke      An American guy goes to a currency conversion ...\n",
      "prompt                                       tell me a joke\n",
      "Name: 773, dtype: object\n",
      "An American guy goes to a currency conversion shop... ...and notices the changing rates of the US dollar. He says to the clerk, \"Wow...fluctuations...\" The clerk angrily replies, \"HEY! FLUCK YOU WHITE GUYS TOO!\"\n",
      "272494\n"
     ]
    }
   ],
   "source": [
    "# print row 193\n",
    "print(df_jokes.iloc[193])\n",
    "# print its joke\n",
    "print(df_jokes.iloc[193]['joke'])\n",
    "# print len\n",
    "print(len(df_jokes))\n"
   ]
  },
  {
   "cell_type": "code",
   "execution_count": 54,
   "metadata": {},
   "outputs": [
    {
     "name": "stdout",
     "output_type": "stream",
     "text": [
      "265484\n"
     ]
    }
   ],
   "source": [
    "# drop duplicates\n",
    "df_jokes.drop_duplicates(inplace=True)\n",
    "# print len \n",
    "print(len(df_jokes))"
   ]
  },
  {
   "cell_type": "code",
   "execution_count": 40,
   "metadata": {},
   "outputs": [],
   "source": [
    "# save df_jokes to csv\n",
    "df_jokes.to_csv('./data/jokes.csv', index=False)"
   ]
  },
  {
   "cell_type": "code",
   "execution_count": null,
   "metadata": {},
   "outputs": [],
   "source": []
  }
 ],
 "metadata": {
  "kernelspec": {
   "display_name": "rmd",
   "language": "python",
   "name": "python3"
  },
  "language_info": {
   "codemirror_mode": {
    "name": "ipython",
    "version": 3
   },
   "file_extension": ".py",
   "mimetype": "text/x-python",
   "name": "python",
   "nbconvert_exporter": "python",
   "pygments_lexer": "ipython3",
   "version": "3.8.17"
  },
  "orig_nbformat": 4
 },
 "nbformat": 4,
 "nbformat_minor": 2
}
