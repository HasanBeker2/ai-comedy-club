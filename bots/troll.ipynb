{
 "cells": [
  {
   "cell_type": "code",
   "execution_count": 2,
   "metadata": {},
   "outputs": [
    {
     "name": "stdout",
     "output_type": "stream",
     "text": [
      "x is equal to 3\n"
     ]
    }
   ],
   "source": [
    "x=3\n",
    "print(f\"x is equal to {x}\")"
   ]
  },
  {
   "cell_type": "code",
   "execution_count": 3,
   "metadata": {},
   "outputs": [],
   "source": [
    "x=99"
   ]
  },
  {
   "cell_type": "code",
   "execution_count": 4,
   "metadata": {},
   "outputs": [
    {
     "name": "stdout",
     "output_type": "stream",
     "text": [
      "x is equal to 99\n"
     ]
    }
   ],
   "source": [
    "print(f\"x is equal to {x}\")"
   ]
  },
  {
   "cell_type": "code",
   "execution_count": 7,
   "metadata": {},
   "outputs": [
    {
     "name": "stdout",
     "output_type": "stream",
     "text": [
      "<human>: Tell me a joke\n",
      "        <assistant>:\n"
     ]
    }
   ],
   "source": [
    "prompt = \"Tell me a joke\"\n",
    "print(f\"\"\"\n",
    "        <human>: {prompt}\n",
    "        <assistant>:\n",
    "        \"\"\".strip())"
   ]
  },
  {
   "cell_type": "code",
   "execution_count": 30,
   "metadata": {},
   "outputs": [
    {
     "ename": "ValueError",
     "evalue": "List is empty",
     "output_type": "error",
     "traceback": [
      "\u001b[0;31m---------------------------------------------------------------------------\u001b[0m",
      "\u001b[0;31mValueError\u001b[0m                                Traceback (most recent call last)",
      "Cell \u001b[0;32mIn[30], line 11\u001b[0m\n\u001b[1;32m      8\u001b[0m     \u001b[39mreturn\u001b[39;00m \u001b[39mlist\u001b[39m[random\u001b[39m.\u001b[39mrandint(\u001b[39m0\u001b[39m, \u001b[39mlen\u001b[39m(\u001b[39mlist\u001b[39m) \u001b[39m-\u001b[39m \u001b[39m1\u001b[39m)]\n\u001b[1;32m     10\u001b[0m k \u001b[39m=\u001b[39m []\n\u001b[0;32m---> 11\u001b[0m \u001b[39mprint\u001b[39m(get_randomom_element(k))\n",
      "Cell \u001b[0;32mIn[30], line 6\u001b[0m, in \u001b[0;36mget_randomom_element\u001b[0;34m(list)\u001b[0m\n\u001b[1;32m      3\u001b[0m \u001b[39mdef\u001b[39;00m \u001b[39mget_randomom_element\u001b[39m(\u001b[39mlist\u001b[39m:List):\n\u001b[1;32m      4\u001b[0m     \u001b[39m# throw an error if the list is empty\u001b[39;00m\n\u001b[1;32m      5\u001b[0m     \u001b[39mif\u001b[39;00m \u001b[39mlen\u001b[39m(\u001b[39mlist\u001b[39m) \u001b[39m==\u001b[39m \u001b[39m0\u001b[39m:\n\u001b[0;32m----> 6\u001b[0m         \u001b[39mraise\u001b[39;00m \u001b[39mValueError\u001b[39;00m(\u001b[39m\"\u001b[39m\u001b[39mList is empty\u001b[39m\u001b[39m\"\u001b[39m)\n\u001b[1;32m      8\u001b[0m     \u001b[39mreturn\u001b[39;00m \u001b[39mlist\u001b[39m[random\u001b[39m.\u001b[39mrandint(\u001b[39m0\u001b[39m, \u001b[39mlen\u001b[39m(\u001b[39mlist\u001b[39m) \u001b[39m-\u001b[39m \u001b[39m1\u001b[39m)]\n",
      "\u001b[0;31mValueError\u001b[0m: List is empty"
     ]
    }
   ],
   "source": [
    "import random\n",
    "from typing import List\n",
    "def get_randomom_element(list:List):\n",
    "    # throw an error if the list is empty\n",
    "    if len(list) == 0:\n",
    "        raise ValueError(\"List is empty\")\n",
    "\n",
    "    return list[random.randint(0, len(list) - 1)]\n",
    "\n",
    "k = []\n",
    "print(get_randomom_element(k))"
   ]
  },
  {
   "cell_type": "code",
   "execution_count": null,
   "metadata": {},
   "outputs": [],
   "source": []
  },
  {
   "cell_type": "code",
   "execution_count": null,
   "metadata": {},
   "outputs": [],
   "source": []
  }
 ],
 "metadata": {
  "kernelspec": {
   "display_name": "rmd",
   "language": "python",
   "name": "python3"
  },
  "language_info": {
   "codemirror_mode": {
    "name": "ipython",
    "version": 3
   },
   "file_extension": ".py",
   "mimetype": "text/x-python",
   "name": "python",
   "nbconvert_exporter": "python",
   "pygments_lexer": "ipython3",
   "version": "3.8.17"
  },
  "orig_nbformat": 4
 },
 "nbformat": 4,
 "nbformat_minor": 2
}
