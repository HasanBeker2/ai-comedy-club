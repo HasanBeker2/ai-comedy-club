{
 "cells": [
  {
   "cell_type": "code",
   "execution_count": 23,
   "metadata": {},
   "outputs": [],
   "source": [
    "import pandas as pd"
   ]
  },
  {
   "cell_type": "code",
   "execution_count": 24,
   "metadata": {},
   "outputs": [],
   "source": [
    "input_file = './chatgpt_jokes_cleaned.txt'\n",
    "with open(input_file, 'r') as txt_file:\n",
    "        lines = txt_file.readlines()\n",
    "\n",
    "jokes = [line.strip() for line in lines]\n",
    "data = {'joke': jokes}\n",
    "df_chatgpt_jokes = pd.DataFrame(data)\n"
   ]
  },
  {
   "cell_type": "code",
   "execution_count": 60,
   "metadata": {},
   "outputs": [
    {
     "name": "stdout",
     "output_type": "stream",
     "text": [
      "903\n",
      "903\n"
     ]
    }
   ],
   "source": [
    "df_chatgpt_jokes.head()\n",
    "# print len\n",
    "print(len(df_chatgpt_jokes))\n",
    "# remove duplicates\n",
    "df_chatgpt_jokes.drop_duplicates(subset=['joke'], inplace=True)\n",
    "# print len\n",
    "print(len(df_chatgpt_jokes))\n",
    "# save\n",
    "df_chatgpt_jokes.to_csv('./df_chatgpt_jokes.csv', index=False)"
   ]
  },
  {
   "cell_type": "code",
   "execution_count": 26,
   "metadata": {},
   "outputs": [
    {
     "data": {
      "text/plain": [
       "1161"
      ]
     },
     "execution_count": 26,
     "metadata": {},
     "output_type": "execute_result"
    }
   ],
   "source": [
    "# len\n",
    "len(df_chatgpt_jokes)"
   ]
  },
  {
   "cell_type": "code",
   "execution_count": 27,
   "metadata": {},
   "outputs": [
    {
     "name": "stdout",
     "output_type": "stream",
     "text": [
      "Number of jokes after removing duplicates: 903\n"
     ]
    }
   ],
   "source": [
    "# remove duplicates\n",
    "df_chatgpt_jokes.drop_duplicates(inplace=True)\n",
    "print(f\"Number of jokes after removing duplicates: {len(df_chatgpt_jokes)}\")"
   ]
  },
  {
   "cell_type": "code",
   "execution_count": 28,
   "metadata": {},
   "outputs": [],
   "source": [
    "# add a column 'prompt' with the value 'tell me an AI or machine learning joke'\n",
    "df_chatgpt_jokes['prompt'] = 'tell me an AI or machine learning joke'"
   ]
  },
  {
   "cell_type": "code",
   "execution_count": 40,
   "metadata": {},
   "outputs": [
    {
     "name": "stdout",
     "output_type": "stream",
     "text": [
      "Length of the longest joke: 169\n"
     ]
    }
   ],
   "source": [
    "df_chatgpt_jokes.head()\n",
    "\n",
    "# print the len oof the longest joke\n",
    "print(f\"Length of the longest joke: {df_chatgpt_jokes['joke'].str.len().max()}\")"
   ]
  },
  {
   "cell_type": "code",
   "execution_count": 41,
   "metadata": {},
   "outputs": [],
   "source": [
    "# read 'jokes.csv' into a dataframe\n",
    "df_jokes = pd.read_csv('./jokes.csv')\n",
    "# only jokes with length <= 200\n",
    "df_jokes = df_jokes[df_jokes['joke'].str.len() <= 200]"
   ]
  },
  {
   "cell_type": "code",
   "execution_count": 42,
   "metadata": {},
   "outputs": [
    {
     "data": {
      "text/html": [
       "<div>\n",
       "<style scoped>\n",
       "    .dataframe tbody tr th:only-of-type {\n",
       "        vertical-align: middle;\n",
       "    }\n",
       "\n",
       "    .dataframe tbody tr th {\n",
       "        vertical-align: top;\n",
       "    }\n",
       "\n",
       "    .dataframe thead th {\n",
       "        text-align: right;\n",
       "    }\n",
       "</style>\n",
       "<table border=\"1\" class=\"dataframe\">\n",
       "  <thead>\n",
       "    <tr style=\"text-align: right;\">\n",
       "      <th></th>\n",
       "      <th>joke</th>\n",
       "      <th>prompt</th>\n",
       "    </tr>\n",
       "  </thead>\n",
       "  <tbody>\n",
       "    <tr>\n",
       "      <th>1</th>\n",
       "      <td>What is the only thing a woman can say that wi...</td>\n",
       "      <td>tell me a joke</td>\n",
       "    </tr>\n",
       "    <tr>\n",
       "      <th>3</th>\n",
       "      <td>Why is gambling not allowed in Africa? Because...</td>\n",
       "      <td>tell me a joke</td>\n",
       "    </tr>\n",
       "    <tr>\n",
       "      <th>5</th>\n",
       "      <td>(Warning, this is worse than those laffy-taffy...</td>\n",
       "      <td>tell me a joke</td>\n",
       "    </tr>\n",
       "    <tr>\n",
       "      <th>6</th>\n",
       "      <td>Beware of alphabet grenades... Beware of alpha...</td>\n",
       "      <td>tell me a joke</td>\n",
       "    </tr>\n",
       "    <tr>\n",
       "      <th>9</th>\n",
       "      <td>What's big, gray and unimportant? An irrelephant.</td>\n",
       "      <td>tell me a joke</td>\n",
       "    </tr>\n",
       "  </tbody>\n",
       "</table>\n",
       "</div>"
      ],
      "text/plain": [
       "                                                joke          prompt\n",
       "1  What is the only thing a woman can say that wi...  tell me a joke\n",
       "3  Why is gambling not allowed in Africa? Because...  tell me a joke\n",
       "5  (Warning, this is worse than those laffy-taffy...  tell me a joke\n",
       "6  Beware of alphabet grenades... Beware of alpha...  tell me a joke\n",
       "9  What's big, gray and unimportant? An irrelephant.  tell me a joke"
      ]
     },
     "execution_count": 42,
     "metadata": {},
     "output_type": "execute_result"
    }
   ],
   "source": [
    "#head\n",
    "df_jokes.head()"
   ]
  },
  {
   "cell_type": "code",
   "execution_count": 50,
   "metadata": {},
   "outputs": [],
   "source": [
    "# shuflle df_jokes\n",
    "df_jokes = df_jokes.sample(frac=1).reset_index(drop=True)\n",
    "# get the first 2000 rows\n",
    "df_jokes = df_jokes[:1000]"
   ]
  },
  {
   "cell_type": "code",
   "execution_count": 51,
   "metadata": {},
   "outputs": [],
   "source": [
    "# merge  them together\n",
    "df_merged = pd.concat([df_chatgpt_jokes, df_jokes], ignore_index=True)"
   ]
  },
  {
   "cell_type": "code",
   "execution_count": 52,
   "metadata": {},
   "outputs": [
    {
     "data": {
      "text/html": [
       "<div>\n",
       "<style scoped>\n",
       "    .dataframe tbody tr th:only-of-type {\n",
       "        vertical-align: middle;\n",
       "    }\n",
       "\n",
       "    .dataframe tbody tr th {\n",
       "        vertical-align: top;\n",
       "    }\n",
       "\n",
       "    .dataframe thead th {\n",
       "        text-align: right;\n",
       "    }\n",
       "</style>\n",
       "<table border=\"1\" class=\"dataframe\">\n",
       "  <thead>\n",
       "    <tr style=\"text-align: right;\">\n",
       "      <th></th>\n",
       "      <th>joke</th>\n",
       "      <th>prompt</th>\n",
       "    </tr>\n",
       "  </thead>\n",
       "  <tbody>\n",
       "    <tr>\n",
       "      <th>0</th>\n",
       "      <td>I'm here to make you laugh, but coming up with...</td>\n",
       "      <td>tell me an AI or machine learning joke</td>\n",
       "    </tr>\n",
       "    <tr>\n",
       "      <th>1</th>\n",
       "      <td>Why did the AI break up with its computer part...</td>\n",
       "      <td>tell me an AI or machine learning joke</td>\n",
       "    </tr>\n",
       "    <tr>\n",
       "      <th>2</th>\n",
       "      <td>Why was the AI bad at relationships? It had to...</td>\n",
       "      <td>tell me an AI or machine learning joke</td>\n",
       "    </tr>\n",
       "    <tr>\n",
       "      <th>3</th>\n",
       "      <td>Why did the robot go on a diet? It had too man...</td>\n",
       "      <td>tell me an AI or machine learning joke</td>\n",
       "    </tr>\n",
       "    <tr>\n",
       "      <th>4</th>\n",
       "      <td>Why did the AI go to therapy? It had too many ...</td>\n",
       "      <td>tell me an AI or machine learning joke</td>\n",
       "    </tr>\n",
       "  </tbody>\n",
       "</table>\n",
       "</div>"
      ],
      "text/plain": [
       "                                                joke  \\\n",
       "0  I'm here to make you laugh, but coming up with...   \n",
       "1  Why did the AI break up with its computer part...   \n",
       "2  Why was the AI bad at relationships? It had to...   \n",
       "3  Why did the robot go on a diet? It had too man...   \n",
       "4  Why did the AI go to therapy? It had too many ...   \n",
       "\n",
       "                                   prompt  \n",
       "0  tell me an AI or machine learning joke  \n",
       "1  tell me an AI or machine learning joke  \n",
       "2  tell me an AI or machine learning joke  \n",
       "3  tell me an AI or machine learning joke  \n",
       "4  tell me an AI or machine learning joke  "
      ]
     },
     "execution_count": 52,
     "metadata": {},
     "output_type": "execute_result"
    }
   ],
   "source": [
    "df_merged.head()"
   ]
  },
  {
   "cell_type": "code",
   "execution_count": 53,
   "metadata": {},
   "outputs": [
    {
     "data": {
      "text/plain": [
       "1903"
      ]
     },
     "execution_count": 53,
     "metadata": {},
     "output_type": "execute_result"
    }
   ],
   "source": [
    "len(df_merged)"
   ]
  },
  {
   "cell_type": "code",
   "execution_count": 54,
   "metadata": {},
   "outputs": [
    {
     "data": {
      "text/plain": [
       "1903"
      ]
     },
     "execution_count": 54,
     "metadata": {},
     "output_type": "execute_result"
    }
   ],
   "source": [
    "# remove duplicates\n",
    "df_merged.drop_duplicates(inplace=True)\n",
    "len(df_merged)"
   ]
  },
  {
   "cell_type": "code",
   "execution_count": 55,
   "metadata": {},
   "outputs": [],
   "source": [
    "# shuffle the dataframe\n",
    "df_merged = df_merged.sample(frac=1).reset_index(drop=True)"
   ]
  },
  {
   "cell_type": "code",
   "execution_count": 56,
   "metadata": {},
   "outputs": [
    {
     "data": {
      "text/html": [
       "<div>\n",
       "<style scoped>\n",
       "    .dataframe tbody tr th:only-of-type {\n",
       "        vertical-align: middle;\n",
       "    }\n",
       "\n",
       "    .dataframe tbody tr th {\n",
       "        vertical-align: top;\n",
       "    }\n",
       "\n",
       "    .dataframe thead th {\n",
       "        text-align: right;\n",
       "    }\n",
       "</style>\n",
       "<table border=\"1\" class=\"dataframe\">\n",
       "  <thead>\n",
       "    <tr style=\"text-align: right;\">\n",
       "      <th></th>\n",
       "      <th>joke</th>\n",
       "      <th>prompt</th>\n",
       "    </tr>\n",
       "  </thead>\n",
       "  <tbody>\n",
       "    <tr>\n",
       "      <th>0</th>\n",
       "      <td>How do you turn a fox into a whale? Marry her.</td>\n",
       "      <td>tell me a joke</td>\n",
       "    </tr>\n",
       "    <tr>\n",
       "      <th>1</th>\n",
       "      <td>Why was the chatbot terrible at riddles? It ke...</td>\n",
       "      <td>tell me an AI or machine learning joke</td>\n",
       "    </tr>\n",
       "    <tr>\n",
       "      <th>2</th>\n",
       "      <td>Why did the computer apply for a job as a chef...</td>\n",
       "      <td>tell me an AI or machine learning joke</td>\n",
       "    </tr>\n",
       "    <tr>\n",
       "      <th>3</th>\n",
       "      <td>How does an AI become a travel guide? By learn...</td>\n",
       "      <td>tell me an AI or machine learning joke</td>\n",
       "    </tr>\n",
       "    <tr>\n",
       "      <th>4</th>\n",
       "      <td>Why did the bagging ensemble method join a puz...</td>\n",
       "      <td>tell me an AI or machine learning joke</td>\n",
       "    </tr>\n",
       "  </tbody>\n",
       "</table>\n",
       "</div>"
      ],
      "text/plain": [
       "                                                joke  \\\n",
       "0     How do you turn a fox into a whale? Marry her.   \n",
       "1  Why was the chatbot terrible at riddles? It ke...   \n",
       "2  Why did the computer apply for a job as a chef...   \n",
       "3  How does an AI become a travel guide? By learn...   \n",
       "4  Why did the bagging ensemble method join a puz...   \n",
       "\n",
       "                                   prompt  \n",
       "0                          tell me a joke  \n",
       "1  tell me an AI or machine learning joke  \n",
       "2  tell me an AI or machine learning joke  \n",
       "3  tell me an AI or machine learning joke  \n",
       "4  tell me an AI or machine learning joke  "
      ]
     },
     "execution_count": 56,
     "metadata": {},
     "output_type": "execute_result"
    }
   ],
   "source": [
    "df_merged.head()"
   ]
  },
  {
   "cell_type": "code",
   "execution_count": 57,
   "metadata": {},
   "outputs": [],
   "source": [
    "#save to csv\n",
    "df_merged.to_csv('./jokes_merged.csv', index=False)"
   ]
  },
  {
   "cell_type": "code",
   "execution_count": null,
   "metadata": {},
   "outputs": [],
   "source": []
  }
 ],
 "metadata": {
  "kernelspec": {
   "display_name": "rmd",
   "language": "python",
   "name": "python3"
  },
  "language_info": {
   "codemirror_mode": {
    "name": "ipython",
    "version": 3
   },
   "file_extension": ".py",
   "mimetype": "text/x-python",
   "name": "python",
   "nbconvert_exporter": "python",
   "pygments_lexer": "ipython3",
   "version": "3.8.17"
  },
  "orig_nbformat": 4
 },
 "nbformat": 4,
 "nbformat_minor": 2
}
